{
 "cells": [
  {
   "cell_type": "markdown",
   "metadata": {},
   "source": [
    "# EZyRB"
   ]
  },
  {
   "cell_type": "markdown",
   "metadata": {},
   "source": [
    "# Tutorial 1: Model Reduction on a vtk pressure field - offline phase"
   ]
  },
  {
   "cell_type": "markdown",
   "metadata": {},
   "source": [
    "In this tutorial we will show the typical workflow for the construcion of the reduced basis space. In this phase, called <b>Offline</b>, the high-fidelity solutions (*snapshots*) are imported from files and they are combined to create the space.<br>\n",
    "First of all we just import the required packages."
   ]
  },
  {
   "cell_type": "code",
   "execution_count": 1,
   "metadata": {},
   "outputs": [],
   "source": [
    "from ezyrb.offline import Offline\n",
    "from ezyrb.podinterpolation import PODInterpolation\n",
    "\n",
    "import numpy as np"
   ]
  },
  {
   "cell_type": "markdown",
   "metadata": {},
   "source": [
    "Then, we create the new instance; the class constructor parameters are:\n",
    "- *output_name*: the name of the variable (output) we want to extract from the solution files.\n",
    "- *space_type*: the method we want to use to generate the reduced basis space; default value is <tt>Pod</tt>.\n",
    "- *weight_name*: the (optional) name of the variable (output) we want to extract from a solution file and use to obtain the weighted snapshots; default value is None.\n",
    "- *dformat*: the flag which allows to chose if use the solution stored by cells or by points; allowed values are 'cell' or 'point'; default value is 'cell'."
   ]
  },
  {
   "cell_type": "code",
   "execution_count": 2,
   "metadata": {},
   "outputs": [],
   "source": [
    "offline_phase = Offline(\n",
    "    output_name = 'Pressure',\n",
    "    space_type  = PODInterpolation,\n",
    "    weight_name = None,\n",
    "    dformat     = 'point'\n",
    ")"
   ]
  },
  {
   "cell_type": "markdown",
   "metadata": {},
   "source": [
    "## Import Solution Files"
   ]
  },
  {
   "cell_type": "markdown",
   "metadata": {},
   "source": [
    "Now, we need to select the files which contain the previously computed solutions of the parametric problem. In this case, we want to approximate the pressure field; typically, the first solutions to add at the *database* are the solutions computed at the corners of the parametric domain. Because, in this example, we are using a 2D parameters, 4 files are required.\n",
    "You can view the pressure field (computed with the high-fidelity method) corresponding to these 4 corners of the parametric domain in the following pictures.\n",
    "\n",
    "![](pictures/pressure_in_corners.png)\n",
    "\n",
    "We can import the files in two ways:"
   ]
  },
  {
   "cell_type": "code",
   "execution_count": 3,
   "metadata": {},
   "outputs": [],
   "source": [
    "mu_values = [\n",
    "    [-.5, -.5],\n",
    "    [ .5, -.5],\n",
    "    [ .5,  .5],\n",
    "    [-.5,  .5]\n",
    "]\n",
    "files = [\n",
    "    \"../tests/test_datasets/matlab_00.vtk\",\n",
    "    \"../tests/test_datasets/matlab_01.vtk\",\n",
    "    \"../tests/test_datasets/matlab_02.vtk\",\n",
    "    \"../tests/test_datasets/matlab_03.vtk\"\n",
    "]\n",
    "offline_phase.init_database(mu_values, files)"
   ]
  },
  {
   "cell_type": "markdown",
   "metadata": {},
   "source": [
    "In this case, we manualy construct a list that contains the parametric points and a list that contains the name of the solution files; obviously, the *i*-th file has to contain the high-fidelity solution computed at the *i*-th parametric point (in this example, \"tests/test_datasets/matlab_02.vtk\" contains the solution of the problem with the parameters equal to {0.5, 0.5}).\n",
    "\n",
    "\n",
    "Alternatively, we can indicate the parametric points and the files by writing them on a text file and passing this file as argument of `init_database_from_file` method. Below, we display the file for our example."
   ]
  },
  {
   "cell_type": "code",
   "execution_count": 4,
   "metadata": {},
   "outputs": [
    {
     "name": "stdout",
     "output_type": "stream",
     "text": [
      "# ================================================= # \r\n",
      "# Mu file                                           #\r\n",
      "# ================================================= # \r\n",
      "\r\n",
      "# Lines starting with '#' are comments, they will be ignored.\r\n",
      "\r\n",
      "# mu0   mu1     file\r\n",
      "-.5    -.5      tests/test_datasets/matlab_00.vtk\r\n",
      " .5    -.5      tests/test_datasets/matlab_01.vtk\r\n",
      " .5     .5      tests/test_datasets/matlab_02.vtk\r\n",
      "-.5     .5      tests/test_datasets/matlab_03.vtk\r\n"
     ]
    }
   ],
   "source": [
    "!cat ../tests/test_datasets/mu.conf"
   ]
  },
  {
   "cell_type": "markdown",
   "metadata": {},
   "source": [
    "## Error Approximation & Improvement\n",
    "\n",
    "At the moment, the database is composed by 4 files. Before proceding with the reduced basis space generation, we would have an idea of the approximation accuracy we are able to reach with these high-fidelity solutions. The library provides an efficient *a priori* error estimator."
   ]
  },
  {
   "cell_type": "code",
   "execution_count": 5,
   "metadata": {},
   "outputs": [
    {
     "data": {
      "text/plain": [
       "array([ 0.1491303 ,  0.05875266,  0.04603029,  0.07641878])"
      ]
     },
     "execution_count": 5,
     "metadata": {},
     "output_type": "execute_result"
    }
   ],
   "source": [
    "offline_phase.loo_error(func=np.linalg.norm)"
   ]
  },
  {
   "cell_type": "markdown",
   "metadata": {},
   "source": [
    "Using the *leave-one-out* strategy, an error is computed for each parametric point in our database and these values are returned as array. Moreover, we can use the information about the errors to locate the parametric points where we have to compute the new high-fidelity solutions and add these to the database in order to optimally improve the accuracy."
   ]
  },
  {
   "cell_type": "code",
   "execution_count": 6,
   "metadata": {},
   "outputs": [
    {
     "data": {
      "text/plain": [
       "[array([ 0.07826684,  0.17576105]), array([-0.293344  , -0.23120537])]"
      ]
     },
     "execution_count": 6,
     "metadata": {},
     "output_type": "execute_result"
    }
   ],
   "source": [
    "offline_phase.optimal_mu(\n",
    "    error = offline_phase.loo_error(func=np.linalg.norm),\n",
    "    k = 2\n",
    ")"
   ]
  },
  {
   "cell_type": "markdown",
   "metadata": {},
   "source": [
    "These function can be used to achieve the wanted (estimated) accuracy. An iterative example is:"
   ]
  },
  {
   "cell_type": "code",
   "execution_count": 7,
   "metadata": {},
   "outputs": [
    {
     "name": "stdout",
     "output_type": "stream",
     "text": [
      "Current estimated error: 0.149130299687\n",
      "Optimal parametric points:\n",
      "\t[-0.293344   -0.23120537]\n",
      "Solution file for point [-0.293344   -0.23120537]: \"../tests/test_datasets/matlab_04.vtk\"\n"
     ]
    }
   ],
   "source": [
    "error = offline_phase.loo_error()\n",
    "toll = 0.07\n",
    "while max(error) > toll:\n",
    "    \n",
    "    new_points = offline_phase.optimal_mu(error, k=1)\n",
    "    print('Current estimated error: {}'.format(max(error)))\n",
    "    print('Optimal parametric points:')\n",
    "    \n",
    "    for point in new_points:\n",
    "        print('\\t{}'.format(point))\n",
    "        \n",
    "    for point in new_points:\n",
    "        # Compute the high-fidelity solution now...\n",
    "        filename = input('Solution file for point {}: '.format(point))\n",
    "        offline_phase.add_snapshot(point, filename)\n",
    "    \n",
    "    error = offline_phase.loo_error()"
   ]
  },
  {
   "cell_type": "markdown",
   "metadata": {
    "collapsed": true
   },
   "source": [
    "For the sake of clarity, we show also the pressure field corresponding to the parametric point [-0.29334401 -0.23120535]\n",
    "\n",
    "![](pictures/field_04.png)"
   ]
  },
  {
   "cell_type": "markdown",
   "metadata": {},
   "source": [
    "## Reduced Basis Space Generation and Save"
   ]
  },
  {
   "cell_type": "markdown",
   "metadata": {},
   "source": [
    "After importing the snapshots, we combine them to build the reduced basis space and save it to a file."
   ]
  },
  {
   "cell_type": "code",
   "execution_count": 8,
   "metadata": {},
   "outputs": [],
   "source": [
    "offline_phase.generate_rb_space()\n",
    "offline_phase.save_rb_space('pod_space')"
   ]
  },
  {
   "cell_type": "markdown",
   "metadata": {},
   "source": [
    "The offline phase is concluded: the reduced basis space will be loaded during the online phase to obtain the approximation in a new parametric point."
   ]
  }
 ],
 "metadata": {
  "kernelspec": {
   "display_name": "Python 3",
   "language": "python",
   "name": "python3"
  },
  "language_info": {
   "codemirror_mode": {
    "name": "ipython",
    "version": 3
   },
   "file_extension": ".py",
   "mimetype": "text/x-python",
   "name": "python",
   "nbconvert_exporter": "python",
   "pygments_lexer": "ipython3",
   "version": "3.6.8"
  }
 },
 "nbformat": 4,
 "nbformat_minor": 1
}
