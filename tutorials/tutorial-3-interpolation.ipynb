{
 "cells": [
  {
   "cell_type": "markdown",
   "metadata": {},
   "source": [
    "# EZyRB"
   ]
  },
  {
   "cell_type": "markdown",
   "metadata": {},
   "source": [
    "## Tutorial 3: Interpolated output on a new mesh"
   ]
  },
  {
   "cell_type": "markdown",
   "metadata": {},
   "source": [
    "The reduced space generation requires all the high-fidelity solutions to have the same dimension. When working with a parametric domain, sometimes it happens that the high-fidelity solutions are computed on different meshes.\n",
    "This tutorial will show how use the module `mapper` in order to interpolate the solutions (computed on meshes with different dimensions) on a new fixed dimension mesh.\n",
    "\n",
    "First of all, we import the required modules."
   ]
  },
  {
   "cell_type": "code",
   "execution_count": 1,
   "metadata": {},
   "outputs": [],
   "source": [
    "from ezyrb.mapper import Mapper\n",
    "import numpy as np"
   ]
  },
  {
   "cell_type": "markdown",
   "metadata": {},
   "source": [
    "After the creation of the new `Mapper` instance, we set all the object parameters:\n",
    "- `output_name`: the name of the output we want to interpolate;\n",
    "- `number_neighbors`: the number of the neighbors we want to use for the interpolation. Using a lot of neighbors, the interpolation error should decrease, at the expense of a greater computational cost;\n",
    "- `interpolation_mode`: the flag which allows to choose the point data or the cell data; allowed values are 'cell' and 'point'.\n",
    "- `interpolation_function`: the function to interpolate the value of a new point using the neighbors values. It takes as input the neighbors coordinate matrix and the neighbors distance vector."
   ]
  },
  {
   "cell_type": "code",
   "execution_count": 2,
   "metadata": {},
   "outputs": [],
   "source": [
    "test_mapper = Mapper()\n",
    "test_mapper.output_name = 'test'\n",
    "test_mapper.number_neighbors = 4\n",
    "test_mapper.interpolation_mode = 'point'"
   ]
  },
  {
   "cell_type": "markdown",
   "metadata": {},
   "source": [
    "For the interpolation function, we declare a new function that sets the new value as the nearest neighbour value. By default, the interpolation function performs the Inverse Distance Weighting."
   ]
  },
  {
   "cell_type": "code",
   "execution_count": 3,
   "metadata": {},
   "outputs": [],
   "source": [
    "def test_function(values, distance):\n",
    "    return values[np.argmin(distance)]\n",
    "    \n",
    "test_mapper.interpolation_function = test_function"
   ]
  },
  {
   "cell_type": "markdown",
   "metadata": {},
   "source": [
    "Now, we define the file that contains the mesh where we want to map the solution, the file that contains the high-fidelity solution and the name of the file where we want to store the mapped solution. We call the mapping function."
   ]
  },
  {
   "cell_type": "code",
   "execution_count": 5,
   "metadata": {},
   "outputs": [],
   "source": [
    "original_mesh   = '../tests/test_datasets/test_sphere.stl'\n",
    "hf_solution     = '../tests/test_datasets/test_sphere.vtk'\n",
    "mapped_solution = '../tests/test_datasets/test_mapped.vtk'\n",
    "\n",
    "test_mapper.map_solution(mapped_solution, hf_solution, original_mesh)"
   ]
  },
  {
   "cell_type": "markdown",
   "metadata": {},
   "source": [
    "In the following, the original solution (left) and the mapped one (right).\n",
    "\n",
    "![](pictures/mapped_solution.png)"
   ]
  }
 ],
 "metadata": {
  "anaconda-cloud": {},
  "kernelspec": {
   "display_name": "Python 3",
   "language": "python",
   "name": "python3"
  },
  "language_info": {
   "codemirror_mode": {
    "name": "ipython",
    "version": 3
   },
   "file_extension": ".py",
   "mimetype": "text/x-python",
   "name": "python",
   "nbconvert_exporter": "python",
   "pygments_lexer": "ipython3",
   "version": "3.6.8"
  }
 },
 "nbformat": 4,
 "nbformat_minor": 2
}
