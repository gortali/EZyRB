{
 "cells": [
  {
   "cell_type": "markdown",
   "metadata": {},
   "source": [
    "# EZyRB"
   ]
  },
  {
   "cell_type": "markdown",
   "metadata": {},
   "source": [
    "## Tutorial 2: Model Reduction on a vtk pressure field - online phase"
   ]
  },
  {
   "cell_type": "markdown",
   "metadata": {},
   "source": [
    "In this tutorial we will show the typical workflow for the online evaluation of the output of interest. \n",
    "First of all we just import ezyrb and numpy package."
   ]
  },
  {
   "cell_type": "code",
   "execution_count": 1,
   "metadata": {},
   "outputs": [],
   "source": [
    "import ezyrb.online as on\n",
    "import numpy as np"
   ]
  },
  {
   "cell_type": "markdown",
   "metadata": {},
   "source": [
    "Here we set the parameters we need to load the (already saved) offline structures and evaluate the new output:\n",
    "\n",
    "- `output_name` is the name of the output of interest. We need it in order to be able to save the approximated solution on a new file.\n",
    "- `space_filename` is the file where the parametric space has been saved."
   ]
  },
  {
   "cell_type": "code",
   "execution_count": 2,
   "metadata": {},
   "outputs": [],
   "source": [
    "output_name = 'Pressure'\n",
    "space_file = 'pod_space'"
   ]
  },
  {
   "cell_type": "markdown",
   "metadata": {},
   "source": [
    "Now we initialize the online_handler. Then we need to start it in order to evaluate the output for the new value of the parameters value."
   ]
  },
  {
   "cell_type": "code",
   "execution_count": 3,
   "metadata": {},
   "outputs": [
    {
     "name": "stdout",
     "output_type": "stream",
     "text": [
      "<ezyrb.online.Online object at 0x7f6693b302d0>\n"
     ]
    }
   ],
   "source": [
    "online_handler = on.Online(output_name, space_file)\n",
    "print(online_handler)"
   ]
  },
  {
   "cell_type": "markdown",
   "metadata": {},
   "source": [
    "Now we can exploit the parametric space, asking for the approximated output on the new parametric point(s)."
   ]
  },
  {
   "cell_type": "code",
   "execution_count": 4,
   "metadata": {},
   "outputs": [
    {
     "name": "stdout",
     "output_type": "stream",
     "text": [
      "(2500, 1)\n"
     ]
    }
   ],
   "source": [
    "new_mu = [0, 0]\n",
    "approximated_solution = online_handler.run(new_mu)\n",
    "print(approximated_solution.shape)"
   ]
  },
  {
   "cell_type": "markdown",
   "metadata": {},
   "source": [
    "So fast, so nice! The evaluated output is contained in a `numpy.ndarray`, we can manipulate it or plot it as we wish. But the online handler allows us also to save it into a file: we can use the `run_and_store`method to represent the output on a VTK or Matlab file (see the documentation for the complete list of supported file formats).\n",
    "Let's try to save our output: we need to specify the name of the file where the array will be saved and - for the VTK format - also the file that contains the topological information of the mesh."
   ]
  },
  {
   "cell_type": "code",
   "execution_count": 5,
   "metadata": {},
   "outputs": [],
   "source": [
    "output_filename = 'online_evaluation.vtk'\n",
    "geometry_filename = '../tests/test_datasets/matlab_online_test.vtk'\n",
    "online_handler.run_and_store(new_mu, output_filename, geometry_filename)"
   ]
  },
  {
   "cell_type": "markdown",
   "metadata": {},
   "source": [
    "Previously we have already computed the output of interest with the high-fidelity solver. In this way, we can provide a visual comparison between the two fields, as shown in the following. First picture represents the evaluated pressure field, whereas the second represents the \"true\" pressure.\n",
    "\n",
    "![](pictures/online_evaluation.png)\n",
    "\n",
    "![](pictures/high_fidelity_solution.png)\n",
    "\n",
    "As you can easily see, the evaluated field is not perfect, but we must recall that we used only 5 snapshots during the offline stage (the four corners and the first parametric point suggested by the argorithm).\n",
    "If you are not satisfied with the result for your problem at hand, you can go back to the offline step and simply enrich the database with more and more solutions."
   ]
  }
 ],
 "metadata": {
  "anaconda-cloud": {},
  "kernelspec": {
   "display_name": "Python 3",
   "language": "python",
   "name": "python3"
  },
  "language_info": {
   "codemirror_mode": {
    "name": "ipython",
    "version": 3
   },
   "file_extension": ".py",
   "mimetype": "text/x-python",
   "name": "python",
   "nbconvert_exporter": "python",
   "pygments_lexer": "ipython3",
   "version": "3.6.8"
  }
 },
 "nbformat": 4,
 "nbformat_minor": 1
}
